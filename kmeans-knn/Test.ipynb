{
 "cells": [
  {
   "cell_type": "code",
   "execution_count": 1,
   "id": "611553f0",
   "metadata": {},
   "outputs": [],
   "source": [
    "import numpy as np\n",
    "import distance_utils"
   ]
  },
  {
   "cell_type": "code",
   "execution_count": 2,
   "id": "099c3424",
   "metadata": {},
   "outputs": [],
   "source": [
    "def read_data(file_name):\n",
    "    data_set = []\n",
    "    with open(file_name, \"rt\") as f:\n",
    "        for line in f:\n",
    "            line = line.replace(\"\\n\", \"\")\n",
    "            tokens = line.split(\",\")\n",
    "            label = tokens[0]\n",
    "            attribs = []\n",
    "            for i in range(784):\n",
    "                attribs.append(tokens[i + 1])\n",
    "            data_set.append([label, attribs])\n",
    "    return data_set\n",
    "\n",
    "\n",
    "def get_labels(data_set):\n",
    "    labels = [int(row[0]) for row in data_set]\n",
    "    return labels\n",
    "\n",
    "\n",
    "def get_features(data_set):\n",
    "    features = [[int(datapoint) for datapoint in row[1]] for row in data_set]\n",
    "    return features\n"
   ]
  },
  {
   "cell_type": "code",
   "execution_count": 3,
   "id": "bd5b52f7",
   "metadata": {},
   "outputs": [],
   "source": [
    "validation_set = read_data(\"valid.csv\")\n",
    "labels = np.array(get_labels(validation_set))\n",
    "features = np.array(get_features(validation_set))"
   ]
  },
  {
   "cell_type": "code",
   "execution_count": 4,
   "id": "e7456e33",
   "metadata": {},
   "outputs": [
    {
     "data": {
      "text/plain": [
       "array([[0, 0, 0, ..., 0, 0, 0],\n",
       "       [0, 0, 0, ..., 0, 0, 0],\n",
       "       [0, 0, 0, ..., 0, 0, 0],\n",
       "       ...,\n",
       "       [0, 0, 0, ..., 0, 0, 0],\n",
       "       [0, 0, 0, ..., 0, 0, 0],\n",
       "       [0, 0, 0, ..., 0, 0, 0]])"
      ]
     },
     "execution_count": 4,
     "metadata": {},
     "output_type": "execute_result"
    }
   ],
   "source": [
    "features"
   ]
  },
  {
   "cell_type": "code",
   "execution_count": 5,
   "id": "a6236937",
   "metadata": {},
   "outputs": [],
   "source": [
    "n_clusters = 10"
   ]
  },
  {
   "cell_type": "code",
   "execution_count": 6,
   "id": "e67bd1ac",
   "metadata": {},
   "outputs": [],
   "source": [
    "random_indices = np.random.choice(\n",
    "            features.shape[0], n_clusters, replace=False\n",
    "        )"
   ]
  },
  {
   "cell_type": "code",
   "execution_count": 7,
   "id": "e01cdb60",
   "metadata": {},
   "outputs": [
    {
     "data": {
      "text/plain": [
       "10"
      ]
     },
     "execution_count": 7,
     "metadata": {},
     "output_type": "execute_result"
    }
   ],
   "source": [
    "len(random_indices)"
   ]
  },
  {
   "cell_type": "code",
   "execution_count": 8,
   "id": "8dff1e00",
   "metadata": {},
   "outputs": [],
   "source": [
    "centroids = features[random_indices]"
   ]
  },
  {
   "cell_type": "code",
   "execution_count": 9,
   "id": "533d5570",
   "metadata": {},
   "outputs": [
    {
     "data": {
      "text/plain": [
       "array([[0, 0, 0, ..., 0, 0, 0],\n",
       "       [0, 0, 0, ..., 0, 0, 0],\n",
       "       [0, 0, 0, ..., 0, 0, 0],\n",
       "       ...,\n",
       "       [0, 0, 0, ..., 0, 0, 0],\n",
       "       [0, 0, 0, ..., 0, 0, 0],\n",
       "       [0, 0, 0, ..., 0, 0, 0]])"
      ]
     },
     "execution_count": 9,
     "metadata": {},
     "output_type": "execute_result"
    }
   ],
   "source": [
    "centroids"
   ]
  },
  {
   "cell_type": "code",
   "execution_count": 10,
   "id": "36ab2dbd",
   "metadata": {},
   "outputs": [],
   "source": [
    "previous_centroids = np.zeros_like(centroids)"
   ]
  },
  {
   "cell_type": "code",
   "execution_count": 11,
   "id": "29522ebc",
   "metadata": {},
   "outputs": [
    {
     "data": {
      "text/plain": [
       "array([[0, 0, 0, ..., 0, 0, 0],\n",
       "       [0, 0, 0, ..., 0, 0, 0],\n",
       "       [0, 0, 0, ..., 0, 0, 0],\n",
       "       ...,\n",
       "       [0, 0, 0, ..., 0, 0, 0],\n",
       "       [0, 0, 0, ..., 0, 0, 0],\n",
       "       [0, 0, 0, ..., 0, 0, 0]])"
      ]
     },
     "execution_count": 11,
     "metadata": {},
     "output_type": "execute_result"
    }
   ],
   "source": [
    "previous_centroids"
   ]
  },
  {
   "cell_type": "code",
   "execution_count": 12,
   "id": "4e86ca0e",
   "metadata": {},
   "outputs": [
    {
     "data": {
      "text/plain": [
       "False"
      ]
     },
     "execution_count": 12,
     "metadata": {},
     "output_type": "execute_result"
    }
   ],
   "source": [
    "np.allclose(centroids, previous_centroids)"
   ]
  },
  {
   "cell_type": "code",
   "execution_count": 13,
   "id": "203bd103",
   "metadata": {},
   "outputs": [],
   "source": [
    "previous_centroids = centroids"
   ]
  },
  {
   "cell_type": "code",
   "execution_count": 14,
   "id": "d7735ddd",
   "metadata": {},
   "outputs": [],
   "source": [
    "metric = 'euclidean'"
   ]
  },
  {
   "cell_type": "code",
   "execution_count": 15,
   "id": "3ad0c248",
   "metadata": {},
   "outputs": [],
   "source": [
    "distance_metric = getattr(distance_utils, metric + \"_distance\")"
   ]
  },
  {
   "cell_type": "code",
   "execution_count": 17,
   "id": "07dd6ebd",
   "metadata": {},
   "outputs": [],
   "source": [
    "distances = distance_metric(features, centroids)"
   ]
  },
  {
   "cell_type": "code",
   "execution_count": 18,
   "id": "55bb4c9a",
   "metadata": {},
   "outputs": [
    {
     "data": {
      "text/plain": [
       "(200, 10)"
      ]
     },
     "execution_count": 18,
     "metadata": {},
     "output_type": "execute_result"
    }
   ],
   "source": [
    "distances.shape"
   ]
  },
  {
   "cell_type": "code",
   "execution_count": 19,
   "id": "8e6d90eb",
   "metadata": {},
   "outputs": [],
   "source": [
    "cluster_assignments = np.argmin(distances, axis=1)"
   ]
  },
  {
   "cell_type": "code",
   "execution_count": 20,
   "id": "b6fe6edc",
   "metadata": {},
   "outputs": [
    {
     "data": {
      "text/plain": [
       "array([0, 6, 0, 3, 0, 5, 9, 0, 6, 5, 0, 6, 0, 0, 0, 8, 4, 2, 2, 0, 6, 0,\n",
       "       0, 6, 0, 6, 3, 0, 8, 0, 0, 6, 6, 5, 0, 3, 0, 1, 8, 9, 5, 0, 8, 8,\n",
       "       2, 6, 0, 3, 5, 0, 8, 4, 0, 0, 0, 4, 8, 2, 4, 0, 7, 0, 9, 0, 0, 6,\n",
       "       0, 3, 5, 6, 3, 0, 6, 0, 0, 6, 6, 0, 3, 0, 6, 3, 6, 6, 5, 4, 6, 7,\n",
       "       5, 0, 3, 0, 4, 8, 0, 0, 7, 0, 8, 1, 6, 4, 8, 0, 0, 6, 7, 1, 4, 0,\n",
       "       8, 6, 4, 6, 0, 7, 3, 0, 6, 8, 8, 0, 2, 8, 5, 0, 4, 3, 6, 8, 0, 0,\n",
       "       2, 2, 3, 8, 0, 0, 8, 6, 9, 0, 0, 2, 9, 5, 6, 0, 5, 8, 0, 6, 8, 3,\n",
       "       4, 0, 0, 4, 4, 0, 0, 5, 6, 6, 0, 5, 0, 8, 4, 0, 9, 0, 8, 0, 0, 0,\n",
       "       4, 6, 5, 6, 1, 0, 2, 5, 4, 0, 6, 8, 7, 8, 0, 8, 6, 2, 0, 2, 0, 3,\n",
       "       2, 3])"
      ]
     },
     "execution_count": 20,
     "metadata": {},
     "output_type": "execute_result"
    }
   ],
   "source": [
    "cluster_assignments"
   ]
  },
  {
   "cell_type": "code",
   "execution_count": 23,
   "id": "8e352ddd",
   "metadata": {},
   "outputs": [
    {
     "data": {
      "text/plain": [
       "(10, 784)"
      ]
     },
     "execution_count": 23,
     "metadata": {},
     "output_type": "execute_result"
    }
   ],
   "source": [
    "centroids.shape"
   ]
  },
  {
   "cell_type": "code",
   "execution_count": 24,
   "id": "440e2845",
   "metadata": {},
   "outputs": [],
   "source": [
    "centroids = np.array([\n",
    "                np.mean(features[cluster_assignments == i], axis=0)\n",
    "                for i in range(n_clusters)\n",
    "            ])"
   ]
  },
  {
   "cell_type": "code",
   "execution_count": 27,
   "id": "6366e414",
   "metadata": {},
   "outputs": [
    {
     "data": {
      "text/plain": [
       "(10, 784)"
      ]
     },
     "execution_count": 27,
     "metadata": {},
     "output_type": "execute_result"
    }
   ],
   "source": [
    "centroids.shape"
   ]
  },
  {
   "cell_type": "code",
   "execution_count": null,
   "id": "b3153f7a",
   "metadata": {},
   "outputs": [],
   "source": []
  }
 ],
 "metadata": {
  "kernelspec": {
   "display_name": "Python 3 (ipykernel)",
   "language": "python",
   "name": "python3"
  },
  "language_info": {
   "codemirror_mode": {
    "name": "ipython",
    "version": 3
   },
   "file_extension": ".py",
   "mimetype": "text/x-python",
   "name": "python",
   "nbconvert_exporter": "python",
   "pygments_lexer": "ipython3",
   "version": "3.11.5"
  }
 },
 "nbformat": 4,
 "nbformat_minor": 5
}
