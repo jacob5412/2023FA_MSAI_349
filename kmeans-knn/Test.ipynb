{
 "cells": [
  {
   "cell_type": "code",
   "execution_count": 1,
   "id": "611553f0",
   "metadata": {},
   "outputs": [],
   "source": [
    "import numpy as np\n",
    "import distance_utils"
   ]
  },
  {
   "cell_type": "code",
   "execution_count": 2,
   "id": "099c3424",
   "metadata": {},
   "outputs": [],
   "source": [
    "def read_data(file_name):\n",
    "    data_set = []\n",
    "    with open(file_name, \"rt\") as f:\n",
    "        for line in f:\n",
    "            line = line.replace(\"\\n\", \"\")\n",
    "            tokens = line.split(\",\")\n",
    "            label = tokens[0]\n",
    "            attribs = []\n",
    "            for i in range(784):\n",
    "                attribs.append(tokens[i + 1])\n",
    "            data_set.append([label, attribs])\n",
    "    return data_set\n",
    "\n",
    "\n",
    "def get_labels(data_set):\n",
    "    labels = [int(row[0]) for row in data_set]\n",
    "    return labels\n",
    "\n",
    "\n",
    "def get_features(data_set):\n",
    "    features = [[int(datapoint) for datapoint in row[1]] for row in data_set]\n",
    "    return features\n"
   ]
  },
  {
   "cell_type": "code",
   "execution_count": 3,
   "id": "bd5b52f7",
   "metadata": {},
   "outputs": [],
   "source": [
    "validation_set = read_data(\"valid.csv\")\n",
    "labels = np.array(get_labels(validation_set))\n",
    "features = np.array(get_features(validation_set))"
   ]
  },
  {
   "cell_type": "code",
   "execution_count": 4,
   "id": "e7456e33",
   "metadata": {},
   "outputs": [
    {
     "data": {
      "text/plain": [
       "array([[0, 0, 0, ..., 0, 0, 0],\n",
       "       [0, 0, 0, ..., 0, 0, 0],\n",
       "       [0, 0, 0, ..., 0, 0, 0],\n",
       "       ...,\n",
       "       [0, 0, 0, ..., 0, 0, 0],\n",
       "       [0, 0, 0, ..., 0, 0, 0],\n",
       "       [0, 0, 0, ..., 0, 0, 0]])"
      ]
     },
     "execution_count": 4,
     "metadata": {},
     "output_type": "execute_result"
    }
   ],
   "source": [
    "features"
   ]
  },
  {
   "cell_type": "code",
   "execution_count": 5,
   "id": "a6236937",
   "metadata": {},
   "outputs": [],
   "source": [
    "n_clusters = 10"
   ]
  },
  {
   "cell_type": "code",
   "execution_count": 6,
   "id": "e67bd1ac",
   "metadata": {},
   "outputs": [],
   "source": [
    "random_indices = np.random.choice(\n",
    "            features.shape[0], n_clusters, replace=False\n",
    "        )"
   ]
  },
  {
   "cell_type": "code",
   "execution_count": 7,
   "id": "e01cdb60",
   "metadata": {},
   "outputs": [
    {
     "data": {
      "text/plain": [
       "10"
      ]
     },
     "execution_count": 7,
     "metadata": {},
     "output_type": "execute_result"
    }
   ],
   "source": [
    "len(random_indices)"
   ]
  },
  {
   "cell_type": "code",
   "execution_count": 8,
   "id": "8dff1e00",
   "metadata": {},
   "outputs": [],
   "source": [
    "centroids = features[random_indices]"
   ]
  },
  {
   "cell_type": "code",
   "execution_count": 9,
   "id": "533d5570",
   "metadata": {},
   "outputs": [
    {
     "data": {
      "text/plain": [
       "array([[0, 0, 0, ..., 0, 0, 0],\n",
       "       [0, 0, 0, ..., 0, 0, 0],\n",
       "       [0, 0, 0, ..., 0, 0, 0],\n",
       "       ...,\n",
       "       [0, 0, 0, ..., 0, 0, 0],\n",
       "       [0, 0, 0, ..., 0, 0, 0],\n",
       "       [0, 0, 0, ..., 0, 0, 0]])"
      ]
     },
     "execution_count": 9,
     "metadata": {},
     "output_type": "execute_result"
    }
   ],
   "source": [
    "centroids"
   ]
  },
  {
   "cell_type": "code",
   "execution_count": 10,
   "id": "36ab2dbd",
   "metadata": {},
   "outputs": [],
   "source": [
    "previous_centroids = np.zeros_like(centroids)"
   ]
  },
  {
   "cell_type": "code",
   "execution_count": 11,
   "id": "29522ebc",
   "metadata": {},
   "outputs": [
    {
     "data": {
      "text/plain": [
       "array([[0, 0, 0, ..., 0, 0, 0],\n",
       "       [0, 0, 0, ..., 0, 0, 0],\n",
       "       [0, 0, 0, ..., 0, 0, 0],\n",
       "       ...,\n",
       "       [0, 0, 0, ..., 0, 0, 0],\n",
       "       [0, 0, 0, ..., 0, 0, 0],\n",
       "       [0, 0, 0, ..., 0, 0, 0]])"
      ]
     },
     "execution_count": 11,
     "metadata": {},
     "output_type": "execute_result"
    }
   ],
   "source": [
    "previous_centroids"
   ]
  },
  {
   "cell_type": "code",
   "execution_count": 12,
   "id": "4e86ca0e",
   "metadata": {},
   "outputs": [
    {
     "data": {
      "text/plain": [
       "False"
      ]
     },
     "execution_count": 12,
     "metadata": {},
     "output_type": "execute_result"
    }
   ],
   "source": [
    "np.allclose(centroids, previous_centroids)"
   ]
  },
  {
   "cell_type": "code",
   "execution_count": 13,
   "id": "203bd103",
   "metadata": {},
   "outputs": [],
   "source": [
    "previous_centroids = centroids"
   ]
  },
  {
   "cell_type": "code",
   "execution_count": 14,
   "id": "d7735ddd",
   "metadata": {},
   "outputs": [],
   "source": [
    "metric = 'euclidean'"
   ]
  },
  {
   "cell_type": "code",
   "execution_count": 15,
   "id": "3ad0c248",
   "metadata": {},
   "outputs": [],
   "source": [
    "distance_metric = getattr(distance_utils, metric + \"_distance\")"
   ]
  },
  {
   "cell_type": "code",
   "execution_count": 16,
   "id": "07dd6ebd",
   "metadata": {},
   "outputs": [
    {
     "data": {
      "text/plain": [
       "array([[2571.72082466, 1960.46499586, 2146.97484848, ..., 2291.55122133,\n",
       "        2766.63315241, 2209.98393659],\n",
       "       [2660.0428568 , 2726.43888617, 2387.52445014, ..., 2781.29556142,\n",
       "        2807.43316928, 2450.5438172 ],\n",
       "       [2285.27722607, 2080.48816387, 2183.46948685, ..., 2300.63621635,\n",
       "        2717.64070473, 2299.28532375],\n",
       "       ...,\n",
       "       [2879.87725433,    0.        , 2208.72814081, ..., 2272.9126688 ,\n",
       "        2670.15093206, 2307.20696948],\n",
       "       [2981.80247501, 2265.41188308, 2479.90544175, ..., 2417.01530818,\n",
       "        2073.47220864, 2201.86307476],\n",
       "       [2812.17709257, 2015.53045127, 2405.27773864, ..., 2459.19885329,\n",
       "        2683.57690406, 2436.57608131]])"
      ]
     },
     "execution_count": 16,
     "metadata": {},
     "output_type": "execute_result"
    }
   ],
   "source": [
    "distance_metric(features, centroids)"
   ]
  },
  {
   "cell_type": "code",
   "execution_count": null,
   "id": "8e6d90eb",
   "metadata": {},
   "outputs": [],
   "source": []
  }
 ],
 "metadata": {
  "kernelspec": {
   "display_name": "Python 3 (ipykernel)",
   "language": "python",
   "name": "python3"
  },
  "language_info": {
   "codemirror_mode": {
    "name": "ipython",
    "version": 3
   },
   "file_extension": ".py",
   "mimetype": "text/x-python",
   "name": "python",
   "nbconvert_exporter": "python",
   "pygments_lexer": "ipython3",
   "version": "3.11.5"
  }
 },
 "nbformat": 4,
 "nbformat_minor": 5
}
