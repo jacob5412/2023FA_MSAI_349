{
 "cells": [
  {
   "cell_type": "markdown",
   "metadata": {
    "id": "RJ2u12v1N4wk"
   },
   "source": [
    "Just some imports to get out of the way"
   ]
  },
  {
   "cell_type": "code",
   "execution_count": 1,
   "metadata": {
    "id": "yC20O-RCNrOE"
   },
   "outputs": [],
   "source": [
    "import torch\n",
    "from torch import nn\n",
    "from torch.utils.data import DataLoader\n",
    "from torchvision import datasets\n",
    "\n",
    "# from torchvision.transforms import ToTensor, Lambda, Compose\n",
    "import matplotlib.pyplot as plt\n",
    "import pandas as pd\n",
    "import numpy as np\n",
    "from sklearn.preprocessing import MinMaxScaler\n",
    "import datetime\n",
    "\n",
    "# %#matplotlib inline"
   ]
  },
  {
   "cell_type": "code",
   "execution_count": 2,
   "metadata": {
    "id": "jnAr-qY3Y2So"
   },
   "outputs": [
    {
     "name": "stdout",
     "output_type": "stream",
     "text": [
      "cpu\n"
     ]
    }
   ],
   "source": [
    "device = \"cuda\" if torch.cuda.is_available() else \"cpu\"\n",
    "print(device)"
   ]
  },
  {
   "cell_type": "markdown",
   "metadata": {
    "id": "-B76PDi1RS97"
   },
   "source": [
    "## Working with tensors"
   ]
  },
  {
   "cell_type": "code",
   "execution_count": 3,
   "metadata": {
    "id": "xNmchcUWVLBk"
   },
   "outputs": [],
   "source": [
    "n, k = 5, 5"
   ]
  },
  {
   "cell_type": "code",
   "execution_count": 4,
   "metadata": {
    "colab": {
     "base_uri": "https://localhost:8080/"
    },
    "id": "s2FeWFEDSHH6",
    "outputId": "755309a7-2292-4d53-fb69-d6a4a02e1b31"
   },
   "outputs": [
    {
     "data": {
      "text/plain": [
       "tensor([ 0,  1,  2,  3,  4,  5,  6,  7,  8,  9, 10, 11, 12, 13, 14, 15, 16, 17,\n",
       "        18, 19, 20, 21, 22, 23, 24])"
      ]
     },
     "execution_count": 4,
     "metadata": {},
     "output_type": "execute_result"
    }
   ],
   "source": [
    "x = torch.tensor([i for i in range(25)])\n",
    "x"
   ]
  },
  {
   "cell_type": "code",
   "execution_count": 5,
   "metadata": {
    "colab": {
     "base_uri": "https://localhost:8080/"
    },
    "id": "V9cOgNCtOahB",
    "outputId": "930359fc-b30b-4c48-f94c-bc0fd7a8b313"
   },
   "outputs": [
    {
     "data": {
      "text/plain": [
       "tensor([[ 0,  1,  2,  3,  4],\n",
       "        [ 5,  6,  7,  8,  9],\n",
       "        [10, 11, 12, 13, 14],\n",
       "        [15, 16, 17, 18, 19],\n",
       "        [20, 21, 22, 23, 24]])"
      ]
     },
     "execution_count": 5,
     "metadata": {},
     "output_type": "execute_result"
    }
   ],
   "source": [
    "# We can manipulate the shape of our data, adding and subtract dimensions.\n",
    "x = x.reshape(5, 5)\n",
    "x"
   ]
  },
  {
   "cell_type": "code",
   "execution_count": 6,
   "metadata": {
    "colab": {
     "base_uri": "https://localhost:8080/"
    },
    "id": "SvXZT2yq2LBO",
    "outputId": "38bf5a97-9b7e-452c-e75c-e94b80f37a56"
   },
   "outputs": [
    {
     "name": "stdout",
     "output_type": "stream",
     "text": [
      "Torch not compiled with CUDA enabled\n"
     ]
    }
   ],
   "source": [
    "try:\n",
    "    c = x.cuda()\n",
    "    print(c)\n",
    "    print(c[2][2])\n",
    "except AssertionError as e:\n",
    "    print(e)"
   ]
  },
  {
   "cell_type": "code",
   "execution_count": 7,
   "metadata": {
    "colab": {
     "base_uri": "https://localhost:8080/"
    },
    "id": "4xYF-8e32oGz",
    "outputId": "32e1087b-70e5-494f-fb5e-5450f94202ac"
   },
   "outputs": [
    {
     "name": "stdout",
     "output_type": "stream",
     "text": [
      "tensor([[ 0,  1,  2,  3,  4],\n",
      "        [ 5,  6,  7,  8,  9],\n",
      "        [10, 11, 12, 13, 14],\n",
      "        [15, 16, 17, 18, 19],\n",
      "        [20, 21, 22, 23, 24]])\n"
     ]
    }
   ],
   "source": [
    "c = x.cpu()\n",
    "print(c)"
   ]
  },
  {
   "cell_type": "code",
   "execution_count": 8,
   "metadata": {
    "id": "YKjBv94uUd92"
   },
   "outputs": [
    {
     "data": {
      "text/plain": [
       "tensor([[ 0,  1,  2,  3,  4],\n",
       "        [ 5,  6,  7,  8,  9],\n",
       "        [10, 11, 12, 13, 14],\n",
       "        [15, 16, 17, 18, 19],\n",
       "        [20, 21, 22, 23, 24]])"
      ]
     },
     "execution_count": 8,
     "metadata": {},
     "output_type": "execute_result"
    }
   ],
   "source": [
    "x = x.reshape(5, -1)\n",
    "x"
   ]
  },
  {
   "cell_type": "code",
   "execution_count": 9,
   "metadata": {
    "colab": {
     "base_uri": "https://localhost:8080/"
    },
    "id": "L_wRb0TlUn2r",
    "outputId": "018f5dc6-50af-44d5-a412-e891f46a2736"
   },
   "outputs": [
    {
     "data": {
      "text/plain": [
       "tensor([[[ 0],\n",
       "         [ 1],\n",
       "         [ 2],\n",
       "         [ 3],\n",
       "         [ 4]],\n",
       "\n",
       "        [[ 5],\n",
       "         [ 6],\n",
       "         [ 7],\n",
       "         [ 8],\n",
       "         [ 9]],\n",
       "\n",
       "        [[10],\n",
       "         [11],\n",
       "         [12],\n",
       "         [13],\n",
       "         [14]],\n",
       "\n",
       "        [[15],\n",
       "         [16],\n",
       "         [17],\n",
       "         [18],\n",
       "         [19]],\n",
       "\n",
       "        [[20],\n",
       "         [21],\n",
       "         [22],\n",
       "         [23],\n",
       "         [24]]])"
      ]
     },
     "execution_count": 9,
     "metadata": {},
     "output_type": "execute_result"
    }
   ],
   "source": [
    "x = x.unsqueeze(2)\n",
    "x"
   ]
  },
  {
   "cell_type": "code",
   "execution_count": 10,
   "metadata": {
    "colab": {
     "base_uri": "https://localhost:8080/"
    },
    "id": "uGaBMMDwUPUA",
    "outputId": "6cbe6f5c-4c37-4005-dee4-abe9df55fc7f"
   },
   "outputs": [
    {
     "data": {
      "text/plain": [
       "tensor([[ 0,  1,  2,  3,  4],\n",
       "        [ 5,  6,  7,  8,  9],\n",
       "        [10, 11, 12, 13, 14],\n",
       "        [15, 16, 17, 18, 19],\n",
       "        [20, 21, 22, 23, 24]])"
      ]
     },
     "execution_count": 10,
     "metadata": {},
     "output_type": "execute_result"
    }
   ],
   "source": [
    "x = x.squeeze()\n",
    "x"
   ]
  },
  {
   "cell_type": "code",
   "execution_count": 11,
   "metadata": {
    "colab": {
     "base_uri": "https://localhost:8080/"
    },
    "id": "JSNWvzW7VAwQ",
    "outputId": "5f48a39f-5a53-495a-e594-7212b4e4fd7d"
   },
   "outputs": [
    {
     "name": "stdout",
     "output_type": "stream",
     "text": [
      "tensor([[1., 0., 0., 0., 0.],\n",
      "        [0., 1., 0., 0., 0.],\n",
      "        [0., 0., 1., 0., 0.],\n",
      "        [0., 0., 0., 1., 0.],\n",
      "        [0., 0., 0., 0., 1.]]) \n",
      "\n",
      "tensor([[0., 0., 0., 0., 0.],\n",
      "        [0., 0., 0., 0., 0.],\n",
      "        [0., 0., 0., 0., 0.],\n",
      "        [0., 0., 0., 0., 0.],\n",
      "        [0., 0., 0., 0., 0.]]) \n",
      "\n",
      "tensor([[1., 1., 1., 1., 1.],\n",
      "        [1., 1., 1., 1., 1.],\n",
      "        [1., 1., 1., 1., 1.],\n",
      "        [1., 1., 1., 1., 1.],\n",
      "        [1., 1., 1., 1., 1.]]) \n",
      "\n",
      "tensor([[7., 7., 7., 7., 7.],\n",
      "        [7., 7., 7., 7., 7.],\n",
      "        [7., 7., 7., 7., 7.],\n",
      "        [7., 7., 7., 7., 7.],\n",
      "        [7., 7., 7., 7., 7.]]) \n",
      "\n"
     ]
    }
   ],
   "source": [
    "# Some useful short hands\n",
    "I = torch.eye(5)\n",
    "zeros = torch.zeros((n, k))\n",
    "ones = torch.ones((n, k))\n",
    "sevens = ones * 7\n",
    "\n",
    "print(I, \"\\n\")\n",
    "print(zeros, \"\\n\")\n",
    "print(ones, \"\\n\")\n",
    "print(sevens, \"\\n\")"
   ]
  },
  {
   "cell_type": "code",
   "execution_count": 12,
   "metadata": {
    "colab": {
     "base_uri": "https://localhost:8080/"
    },
    "id": "k12rienDV2jc",
    "outputId": "0e5640b6-dc86-4750-a326-4cd7b677ad62"
   },
   "outputs": [
    {
     "data": {
      "text/plain": [
       "tensor([[ 0.,  1.,  2.,  3.,  4.],\n",
       "        [ 5.,  6.,  7.,  8.,  9.],\n",
       "        [10., 11., 12., 13., 14.],\n",
       "        [15., 16., 17., 18., 19.],\n",
       "        [20., 21., 22., 23., 24.]])"
      ]
     },
     "execution_count": 12,
     "metadata": {},
     "output_type": "execute_result"
    }
   ],
   "source": [
    "x.type(torch.float)"
   ]
  },
  {
   "cell_type": "markdown",
   "metadata": {
    "id": "fNzLigE-VuRO"
   },
   "source": [
    "## How about some math"
   ]
  },
  {
   "cell_type": "code",
   "execution_count": 13,
   "metadata": {
    "colab": {
     "base_uri": "https://localhost:8080/"
    },
    "id": "gBsE0ifZVwzY",
    "outputId": "04251c0e-a0bd-479b-f967-32465460f645"
   },
   "outputs": [
    {
     "data": {
      "text/plain": [
       "tensor([[ 0,  1,  2,  3,  4],\n",
       "        [ 5,  6,  7,  8,  9],\n",
       "        [10, 11, 12, 13, 14],\n",
       "        [15, 16, 17, 18, 19],\n",
       "        [20, 21, 22, 23, 24]])"
      ]
     },
     "execution_count": 13,
     "metadata": {},
     "output_type": "execute_result"
    }
   ],
   "source": [
    "x"
   ]
  },
  {
   "cell_type": "code",
   "execution_count": 14,
   "metadata": {
    "colab": {
     "base_uri": "https://localhost:8080/"
    },
    "id": "J3_SYZ46TAvG",
    "outputId": "bc2703c1-7c93-48d3-bf3c-61e1da8ee271"
   },
   "outputs": [
    {
     "data": {
      "text/plain": [
       "tensor([[  0,   1,   4,   9,  16],\n",
       "        [ 25,  36,  49,  64,  81],\n",
       "        [100, 121, 144, 169, 196],\n",
       "        [225, 256, 289, 324, 361],\n",
       "        [400, 441, 484, 529, 576]])"
      ]
     },
     "execution_count": 14,
     "metadata": {},
     "output_type": "execute_result"
    }
   ],
   "source": [
    "x ** 2"
   ]
  },
  {
   "cell_type": "code",
   "execution_count": 15,
   "metadata": {
    "colab": {
     "base_uri": "https://localhost:8080/"
    },
    "id": "fle2CPLETBul",
    "outputId": "e23afc18-f4de-41b4-f6df-632adb367f16"
   },
   "outputs": [
    {
     "data": {
      "text/plain": [
       "tensor([[10, 11, 12, 13, 14],\n",
       "        [15, 16, 17, 18, 19],\n",
       "        [20, 21, 22, 23, 24],\n",
       "        [25, 26, 27, 28, 29],\n",
       "        [30, 31, 32, 33, 34]])"
      ]
     },
     "execution_count": 15,
     "metadata": {},
     "output_type": "execute_result"
    }
   ],
   "source": [
    "x + 10"
   ]
  },
  {
   "cell_type": "code",
   "execution_count": 16,
   "metadata": {
    "colab": {
     "base_uri": "https://localhost:8080/"
    },
    "id": "xt2DQH-BWOj4",
    "outputId": "825cefed-11fe-43cb-9dbb-b13057d6373e"
   },
   "outputs": [
    {
     "data": {
      "text/plain": [
       "tensor([[1.0000, 0.5000, 0.3333, 0.2500, 0.2000],\n",
       "        [0.1667, 0.1429, 0.1250, 0.1111, 0.1000],\n",
       "        [0.0909, 0.0833, 0.0769, 0.0714, 0.0667],\n",
       "        [0.0625, 0.0588, 0.0556, 0.0526, 0.0500],\n",
       "        [0.0476, 0.0455, 0.0435, 0.0417, 0.0400]])"
      ]
     },
     "execution_count": 16,
     "metadata": {},
     "output_type": "execute_result"
    }
   ],
   "source": [
    "1 / (x + 1)"
   ]
  },
  {
   "cell_type": "code",
   "execution_count": 17,
   "metadata": {
    "colab": {
     "base_uri": "https://localhost:8080/"
    },
    "id": "dVZCyhY-TITp",
    "outputId": "cb729da8-673e-4c27-f944-9dae04b30db1"
   },
   "outputs": [
    {
     "name": "stdout",
     "output_type": "stream",
     "text": [
      "tensor([[ 0,  1,  2,  3,  4],\n",
      "        [ 5,  6,  7,  8,  9],\n",
      "        [10, 11, 12, 13, 14],\n",
      "        [15, 16, 17, 18, 19],\n",
      "        [20, 21, 22, 23, 24]])\n"
     ]
    },
    {
     "data": {
      "text/plain": [
       "tensor([[ 1,  3,  5,  7,  9],\n",
       "        [ 6,  8, 10, 12, 14],\n",
       "        [11, 13, 15, 17, 19],\n",
       "        [16, 18, 20, 22, 24],\n",
       "        [21, 23, 25, 27, 29]])"
      ]
     },
     "execution_count": 17,
     "metadata": {},
     "output_type": "execute_result"
    }
   ],
   "source": [
    "print(x)\n",
    "x + torch.tensor([1, 2, 3, 4, 5])"
   ]
  },
  {
   "cell_type": "code",
   "execution_count": 18,
   "metadata": {
    "colab": {
     "base_uri": "https://localhost:8080/"
    },
    "id": "pnR82fyoSdlh",
    "outputId": "b8bae8af-ce45-45e0-f5fd-26ecd11ed40a"
   },
   "outputs": [
    {
     "data": {
      "text/plain": [
       "tensor([[18.0144, 13.6215,  4.9112,  2.6287,  1.1274],\n",
       "        [19.5630, 20.7252, 17.4831, 17.8480,  0.2604],\n",
       "        [15.4026, 10.6409,  2.1753,  0.2161,  8.4177],\n",
       "        [ 3.8613,  9.6931, 18.2406, 19.2531,  7.0479],\n",
       "        [ 6.1229, 10.6883,  7.2613, 14.2281, 10.2637]])"
      ]
     },
     "execution_count": 18,
     "metadata": {},
     "output_type": "execute_result"
    }
   ],
   "source": [
    "y = torch.rand(5, 5) * 25\n",
    "y"
   ]
  },
  {
   "cell_type": "code",
   "execution_count": 19,
   "metadata": {
    "colab": {
     "base_uri": "https://localhost:8080/"
    },
    "id": "NEdM-7HiSvpN",
    "outputId": "db68f983-e808-4634-8d0a-b96fd3081aca"
   },
   "outputs": [
    {
     "data": {
      "text/plain": [
       "tensor([[  0.0000,  13.6215,   9.8225,   7.8861,   4.5095],\n",
       "        [ 97.8149, 124.3514, 122.3820, 142.7839,   2.3434],\n",
       "        [154.0264, 117.0497,  26.1036,   2.8093, 117.8483],\n",
       "        [ 57.9201, 155.0889, 310.0903, 346.5557, 133.9099],\n",
       "        [122.4578, 224.4540, 159.7478, 327.2453, 246.3277]])"
      ]
     },
     "execution_count": 19,
     "metadata": {},
     "output_type": "execute_result"
    }
   ],
   "source": [
    "x * y"
   ]
  },
  {
   "cell_type": "code",
   "execution_count": 20,
   "metadata": {
    "colab": {
     "base_uri": "https://localhost:8080/"
    },
    "id": "UCqxa4JjYyUc",
    "outputId": "d79b0b4a-0514-4d0f-f6e6-e49b6c900993"
   },
   "outputs": [
    {
     "name": "stdout",
     "output_type": "stream",
     "text": [
      "a: tensor([[0.3550, 0.0500],\n",
      "        [0.9748, 0.6037],\n",
      "        [0.9681, 0.6752]])\n",
      "b: tensor([[0.0491],\n",
      "        [0.4094]])\n",
      "c: tensor([[0.0379],\n",
      "        [0.2951],\n",
      "        [0.3240]])\n"
     ]
    }
   ],
   "source": [
    "a = torch.rand(3, 2)\n",
    "b = torch.rand(2, 1)\n",
    "c = torch.matmul(a, b)\n",
    "print(\"a:\", a)\n",
    "print(\"b:\", b)\n",
    "print(\"c:\", c)"
   ]
  },
  {
   "cell_type": "code",
   "execution_count": 21,
   "metadata": {
    "colab": {
     "base_uri": "https://localhost:8080/"
    },
    "id": "PEhKahIvS0id",
    "outputId": "1b5fdfb5-55fc-4e07-b65e-ca1a1da5ba62"
   },
   "outputs": [
    {
     "data": {
      "text/plain": [
       "tensor([[ 0,  5, 10, 15, 20],\n",
       "        [ 1,  6, 11, 16, 21],\n",
       "        [ 2,  7, 12, 17, 22],\n",
       "        [ 3,  8, 13, 18, 23],\n",
       "        [ 4,  9, 14, 19, 24]])"
      ]
     },
     "execution_count": 21,
     "metadata": {},
     "output_type": "execute_result"
    }
   ],
   "source": [
    "x.T"
   ]
  },
  {
   "cell_type": "markdown",
   "metadata": {
    "id": "00JZNEvdTrLz"
   },
   "source": [
    "## Lets work with some data"
   ]
  },
  {
   "cell_type": "code",
   "execution_count": 22,
   "metadata": {
    "colab": {
     "base_uri": "https://localhost:8080/"
    },
    "id": "OuSMXYC2OLhU",
    "outputId": "60a58ed2-4466-4da2-a959-915f58d1ec40"
   },
   "outputs": [
    {
     "name": "stdout",
     "output_type": "stream",
     "text": [
      "   longitude  latitude  housing_median_age  total_rooms  total_bedrooms  \\\n",
      "0    -114.31     34.19                15.0       5612.0          1283.0   \n",
      "1    -114.47     34.40                19.0       7650.0          1901.0   \n",
      "2    -114.56     33.69                17.0        720.0           174.0   \n",
      "3    -114.57     33.64                14.0       1501.0           337.0   \n",
      "4    -114.57     33.57                20.0       1454.0           326.0   \n",
      "\n",
      "   population  households  median_income  median_house_value  \n",
      "0      1015.0       472.0         1.4936             66900.0  \n",
      "1      1129.0       463.0         1.8200             80100.0  \n",
      "2       333.0       117.0         1.6509             85700.0  \n",
      "3       515.0       226.0         3.1917             73400.0  \n",
      "4       624.0       262.0         1.9250             65500.0  \n"
     ]
    }
   ],
   "source": [
    "traindf = pd.read_csv(\"california_housing_train.csv\")\n",
    "testdf = pd.read_csv(\"california_housing_test.csv\")\n",
    "\n",
    "print(traindf[:5])"
   ]
  },
  {
   "cell_type": "code",
   "execution_count": 23,
   "metadata": {
    "colab": {
     "base_uri": "https://localhost:8080/"
    },
    "id": "_wdZp9vo8YJl",
    "outputId": "890e65f7-01d2-4a8a-f53d-efaac17d236b"
   },
   "outputs": [
    {
     "data": {
      "text/plain": [
       "longitude              -114.3100\n",
       "latitude                 34.1900\n",
       "housing_median_age       15.0000\n",
       "total_rooms            5612.0000\n",
       "total_bedrooms         1283.0000\n",
       "population             1015.0000\n",
       "households              472.0000\n",
       "median_income             1.4936\n",
       "median_house_value    66900.0000\n",
       "Name: 0, dtype: float64"
      ]
     },
     "execution_count": 23,
     "metadata": {},
     "output_type": "execute_result"
    }
   ],
   "source": [
    "traindf.iloc[0]"
   ]
  },
  {
   "cell_type": "code",
   "execution_count": 24,
   "metadata": {
    "id": "LergLj3cA7km"
   },
   "outputs": [],
   "source": [
    "sc = MinMaxScaler()\n",
    "train_numpy = sc.fit_transform(traindf.values)\n",
    "test_numpy = sc.transform(testdf.values)"
   ]
  },
  {
   "cell_type": "code",
   "execution_count": 25,
   "metadata": {
    "colab": {
     "base_uri": "https://localhost:8080/"
    },
    "id": "uuuVhYKnBfvM",
    "outputId": "b394c22b-ccb5-4ea2-b455-5a47b487f056"
   },
   "outputs": [
    {
     "data": {
      "text/plain": [
       "array([[1.        , 0.17534538, 0.2745098 , 0.14788454, 0.19894475,\n",
       "        0.02836402, 0.07745437, 0.06853009, 0.10701193],\n",
       "       [0.98406375, 0.19766206, 0.35294118, 0.20160801, 0.29484792,\n",
       "        0.03155918, 0.07597435, 0.09104012, 0.13422831],\n",
       "       [0.9750996 , 0.12221041, 0.31372549, 0.01892711, 0.02684668,\n",
       "        0.00924914, 0.01907581, 0.07937822, 0.14577466],\n",
       "       [0.97410359, 0.11689692, 0.25490196, 0.03951496, 0.05214153,\n",
       "        0.01435018, 0.03700049, 0.18563882, 0.12041394],\n",
       "       [0.97410359, 0.10945802, 0.37254902, 0.038276  , 0.05043451,\n",
       "        0.0174052 , 0.04292057, 0.0982814 , 0.10412534]])"
      ]
     },
     "execution_count": 25,
     "metadata": {},
     "output_type": "execute_result"
    }
   ],
   "source": [
    "train_numpy[:5]"
   ]
  },
  {
   "cell_type": "code",
   "execution_count": 26,
   "metadata": {
    "colab": {
     "base_uri": "https://localhost:8080/"
    },
    "id": "WXyzi5yNRv9n",
    "outputId": "81ecbc86-8ccc-4220-9b48-b7eb92993b26"
   },
   "outputs": [
    {
     "name": "stdout",
     "output_type": "stream",
     "text": [
      "tensor([[1.0000, 0.1753, 0.2745, 0.1479, 0.1989, 0.0284, 0.0775, 0.0685, 0.1070],\n",
      "        [0.9841, 0.1977, 0.3529, 0.2016, 0.2948, 0.0316, 0.0760, 0.0910, 0.1342],\n",
      "        [0.9751, 0.1222, 0.3137, 0.0189, 0.0268, 0.0092, 0.0191, 0.0794, 0.1458],\n",
      "        [0.9741, 0.1169, 0.2549, 0.0395, 0.0521, 0.0144, 0.0370, 0.1856, 0.1204],\n",
      "        [0.9741, 0.1095, 0.3725, 0.0383, 0.0504, 0.0174, 0.0429, 0.0983, 0.1041]],\n",
      "       dtype=torch.float64)\n"
     ]
    }
   ],
   "source": [
    "train_tensor = torch.tensor(train_numpy)\n",
    "print(train_tensor[:5])"
   ]
  },
  {
   "cell_type": "code",
   "execution_count": 27,
   "metadata": {
    "id": "umsvoptpOS5a"
   },
   "outputs": [],
   "source": [
    "class CustomHousingDataset(torch.utils.data.Dataset):\n",
    "    def __init__(self, file, scaler):\n",
    "        self.df = pd.read_csv(file)\n",
    "        self.sc = scaler\n",
    "\n",
    "    def __len__(self):\n",
    "        return self.df.shape[0]\n",
    "\n",
    "    def __getitem__(self, idx):\n",
    "        raw = self.df.iloc[idx].values\n",
    "        if type(idx) == int:\n",
    "            raw = raw.reshape(1, -1)\n",
    "        raw = self.sc.transform(raw)\n",
    "        data = torch.tensor(raw[:, :-1], dtype=torch.float32)\n",
    "        label = torch.tensor(raw[:, -1], dtype=torch.float32)\n",
    "        return data, label"
   ]
  },
  {
   "cell_type": "code",
   "execution_count": 28,
   "metadata": {
    "id": "Blrs0xRwP6gP"
   },
   "outputs": [],
   "source": [
    "train_data = CustomHousingDataset(\"california_housing_train.csv\", sc)\n",
    "test_data = CustomHousingDataset(\"california_housing_test.csv\", sc)\n",
    "\n",
    "train_loader = DataLoader(train_data, batch_size=64, shuffle=True)\n",
    "test_loader = DataLoader(test_data, batch_size=64, shuffle=True)"
   ]
  },
  {
   "cell_type": "code",
   "execution_count": 29,
   "metadata": {
    "colab": {
     "base_uri": "https://localhost:8080/"
    },
    "id": "Mi516cGHB71J",
    "outputId": "c33a2b1c-24dd-4ded-953f-b8700e16ecb7"
   },
   "outputs": [
    {
     "data": {
      "text/plain": [
       "(tensor([[0.8725, 0.0266, 0.1373, 0.0575, 0.0475, 0.0279, 0.0470, 0.4056],\n",
       "         [0.8725, 0.0159, 0.5686, 0.0246, 0.0273, 0.0181, 0.0242, 0.1432],\n",
       "         [0.8715, 0.0701, 0.7059, 0.0186, 0.0289, 0.0108, 0.0232, 0.1346],\n",
       "         [0.8715, 0.0351, 0.0392, 0.0429, 0.0490, 0.0281, 0.0511, 0.2503],\n",
       "         [0.8695, 0.0531, 0.3725, 0.0295, 0.0377, 0.0214, 0.0377, 0.1239],\n",
       "         [0.8695, 0.0531, 0.3137, 0.0265, 0.0357, 0.0208, 0.0355, 0.1066],\n",
       "         [0.8675, 0.0276, 0.4314, 0.0323, 0.0363, 0.0159, 0.0385, 0.1839],\n",
       "         [0.8625, 0.0266, 0.3333, 0.0412, 0.0526, 0.0325, 0.0562, 0.1158],\n",
       "         [0.8596, 0.0223, 0.2941, 0.0091, 0.0152, 0.0034, 0.0087, 0.1099],\n",
       "         [0.8586, 0.0871, 0.3529, 0.0197, 0.0368, 0.0133, 0.0276, 0.0878]]),\n",
       " tensor([0.2988, 0.1637, 0.1186, 0.1406, 0.0969, 0.0953, 0.2268, 0.0829, 0.1495,\n",
       "         0.0722]))"
      ]
     },
     "execution_count": 29,
     "metadata": {},
     "output_type": "execute_result"
    }
   ],
   "source": [
    "train_data[100:110]"
   ]
  },
  {
   "cell_type": "markdown",
   "metadata": {
    "id": "KT0Cb12ndYow"
   },
   "source": [
    "## LETS MODEL\n",
    "We'll start by defining some basic models, loss functions, and optimizers. These are the fundamental building blocks for any Deep Learning platform.\n",
    "\n",
    "Some common loss functions:\n",
    "  - CrossEntropy\n",
    "  - BCE (binary cross entropy)\n",
    "  - L1\n",
    "  - MSE (mean sqaure error aka L2)\n",
    "\n",
    "And for optimizers we use some form of gradient descent:\n",
    "- SGD (stochastic gradient decent)\n",
    "- RMSprop\n",
    "- Adagrad\n",
    "- Adam\n",
    "\n",
    "Once we get here, would could also do things like schedule the learning rate, etc."
   ]
  },
  {
   "cell_type": "code",
   "execution_count": 30,
   "metadata": {
    "id": "WP3bROntQYnZ"
   },
   "outputs": [],
   "source": [
    "class FeedForward(nn.Module):\n",
    "    def __init__(self):\n",
    "        super(FeedForward, self).__init__()\n",
    "        self.linear1 = nn.Linear(8, 32)\n",
    "        self.relu1 = nn.LeakyReLU()\n",
    "        self.linear2 = nn.Linear(32, 16)\n",
    "        self.relu2 = nn.LeakyReLU()\n",
    "        self.linear_out = nn.Linear(16, 1)\n",
    "\n",
    "    def forward(self, x):\n",
    "        x = self.linear1(x)\n",
    "        x = self.relu1(x)\n",
    "        x = self.linear2(x)\n",
    "        x = self.relu2(x)\n",
    "        x = self.linear_out(x)\n",
    "        return x"
   ]
  },
  {
   "cell_type": "code",
   "execution_count": 31,
   "metadata": {
    "colab": {
     "base_uri": "https://localhost:8080/"
    },
    "id": "fLc_7fj0YTgB",
    "outputId": "bcfa1570-aaee-42e6-a049-2820d0cfeafd"
   },
   "outputs": [
    {
     "name": "stdout",
     "output_type": "stream",
     "text": [
      "FeedForward(\n",
      "  (linear1): Linear(in_features=8, out_features=32, bias=True)\n",
      "  (relu1): LeakyReLU(negative_slope=0.01)\n",
      "  (linear2): Linear(in_features=32, out_features=16, bias=True)\n",
      "  (relu2): LeakyReLU(negative_slope=0.01)\n",
      "  (linear_out): Linear(in_features=16, out_features=1, bias=True)\n",
      ")\n"
     ]
    }
   ],
   "source": [
    "ff = FeedForward()\n",
    "print(ff)"
   ]
  },
  {
   "cell_type": "code",
   "execution_count": 32,
   "metadata": {
    "colab": {
     "base_uri": "https://localhost:8080/"
    },
    "id": "tiDqxsVEYh0Y",
    "outputId": "ced66575-020a-47f7-9de8-7ebf5d8bc754"
   },
   "outputs": [
    {
     "name": "stdout",
     "output_type": "stream",
     "text": [
      "a: tensor([[1.0000, 0.1753, 0.2745, 0.1479, 0.1989, 0.0284, 0.0775, 0.0685]])\n",
      "b: tensor([0.1070])\n",
      "prediction: tensor([[-0.1177]])\n",
      "target: tensor([0.1070])\n",
      "error: tensor(0.0505)\n"
     ]
    }
   ],
   "source": [
    "loss_func = nn.MSELoss()\n",
    "optimizer = torch.optim.Adam(ff.parameters(), lr=1e-2)\n",
    "ff.eval()\n",
    "a, b = train_data[0]\n",
    "with torch.no_grad():\n",
    "    pred = ff(a)\n",
    "print(\"a:\", a)\n",
    "print(\"b:\", b)\n",
    "print(\"prediction:\", pred)\n",
    "print(\"target:\", b)\n",
    "print(\"error:\", loss_func(pred, b.unsqueeze(0)))"
   ]
  },
  {
   "cell_type": "markdown",
   "metadata": {
    "id": "kToju96kfuJp"
   },
   "source": [
    "### This is what we want to do, over the entire training data."
   ]
  },
  {
   "cell_type": "code",
   "execution_count": 33,
   "metadata": {
    "id": "bn5wlVyrdIkP"
   },
   "outputs": [],
   "source": [
    "def train(dataloader, model, loss_func, optimizer):\n",
    "    model.train()\n",
    "    train_loss = []\n",
    "\n",
    "    now = datetime.datetime.now()\n",
    "    for batch, (X, y) in enumerate(dataloader):\n",
    "        # ignore the first time we see this\n",
    "        # second time why is gpu better than cpu for this?\n",
    "        X, y = X.to(device), y.to(device)\n",
    "\n",
    "        # make some predictions and get the error\n",
    "        pred = model(X)\n",
    "        loss = loss_func(pred, y.unsqueeze(1))\n",
    "\n",
    "        # where the magic happens\n",
    "        # backpropogation\n",
    "        optimizer.zero_grad()\n",
    "        loss.backward()\n",
    "        optimizer.step()\n",
    "\n",
    "        if batch % 10 == 0:\n",
    "            loss, current = loss.item(), batch * len(X)\n",
    "            iters = 10 * len(X)\n",
    "            then = datetime.datetime.now()\n",
    "            iters /= (then - now).total_seconds()\n",
    "            print(f\"loss: {loss:>6f} [{current:>5d}/{17000}] ({iters:.1f} its/sec)\")\n",
    "            now = then\n",
    "            train_loss.append(loss)\n",
    "    return train_loss"
   ]
  },
  {
   "cell_type": "code",
   "execution_count": 34,
   "metadata": {
    "id": "bDgB95AGjsGs"
   },
   "outputs": [],
   "source": [
    "def test(dataloader, model, loss_func):\n",
    "    size = len(dataloader)\n",
    "    num_batches = 0\n",
    "    model.eval()\n",
    "    test_loss = 0\n",
    "\n",
    "    with torch.no_grad():\n",
    "        for X, y in dataloader:\n",
    "            X, y = X.to(device), y.to(device)\n",
    "            pred = model(X)\n",
    "            test_loss += loss_func(pred, y.unsqueeze(1)).item()\n",
    "            num_batches = num_batches + 1\n",
    "    test_loss /= num_batches\n",
    "    print(f\"Avg Loss: {test_loss:>8f}\\n\")\n",
    "    return test_loss"
   ]
  },
  {
   "cell_type": "code",
   "execution_count": 35,
   "metadata": {
    "colab": {
     "base_uri": "https://localhost:8080/"
    },
    "id": "XwUks9nVdIX8",
    "outputId": "a5eab4a5-35b4-46dc-8c80-efc3361c00af"
   },
   "outputs": [
    {
     "name": "stdout",
     "output_type": "stream",
     "text": [
      "Epoch 1\n",
      "------------------------------- \n",
      "\n",
      "loss: 0.175891 [    0/17000] (37554.3 its/sec)\n",
      "loss: 0.068252 [  640/17000] (20705.9 its/sec)\n",
      "loss: 0.059976 [ 1280/17000] (20094.8 its/sec)\n",
      "loss: 0.048340 [ 1920/17000] (19861.6 its/sec)\n",
      "loss: 0.057199 [ 2560/17000] (21215.9 its/sec)\n",
      "loss: 0.059588 [ 3200/17000] (21391.8 its/sec)\n",
      "loss: 0.050511 [ 3840/17000] (20375.0 its/sec)\n",
      "loss: 0.041810 [ 4480/17000] (21630.4 its/sec)\n",
      "loss: 0.049010 [ 5120/17000] (22484.5 its/sec)\n",
      "loss: 0.044224 [ 5760/17000] (22382.3 its/sec)\n",
      "loss: 0.053179 [ 6400/17000] (22221.5 its/sec)\n",
      "loss: 0.067156 [ 7040/17000] (22914.4 its/sec)\n",
      "loss: 0.037978 [ 7680/17000] (21732.5 its/sec)\n",
      "loss: 0.040124 [ 8320/17000] (22969.5 its/sec)\n",
      "loss: 0.045837 [ 8960/17000] (22395.6 its/sec)\n",
      "loss: 0.049471 [ 9600/17000] (22814.0 its/sec)\n",
      "loss: 0.034567 [10240/17000] (23745.9 its/sec)\n",
      "loss: 0.025267 [10880/17000] (22148.4 its/sec)\n",
      "loss: 0.031622 [11520/17000] (21963.7 its/sec)\n",
      "loss: 0.022721 [12160/17000] (21969.7 its/sec)\n",
      "loss: 0.017448 [12800/17000] (22206.8 its/sec)\n",
      "loss: 0.032237 [13440/17000] (23349.1 its/sec)\n",
      "loss: 0.021109 [14080/17000] (22770.9 its/sec)\n",
      "loss: 0.023639 [14720/17000] (23684.4 its/sec)\n",
      "loss: 0.043630 [15360/17000] (23550.2 its/sec)\n",
      "loss: 0.015492 [16000/17000] (22852.2 its/sec)\n",
      "loss: 0.017889 [16640/17000] (22792.0 its/sec)\n",
      "Avg Loss: 0.022488\n",
      "\n",
      "Epoch 2\n",
      "------------------------------- \n",
      "\n",
      "loss: 0.027771 [    0/17000] (164821.0 its/sec)\n",
      "loss: 0.019626 [  640/17000] (23643.3 its/sec)\n",
      "loss: 0.026349 [ 1280/17000] (23409.8 its/sec)\n",
      "loss: 0.023778 [ 1920/17000] (21456.3 its/sec)\n",
      "loss: 0.019552 [ 2560/17000] (22202.2 its/sec)\n",
      "loss: 0.016453 [ 3200/17000] (23304.9 its/sec)\n",
      "loss: 0.014580 [ 3840/17000] (23444.9 its/sec)\n",
      "loss: 0.029668 [ 4480/17000] (23938.7 its/sec)\n",
      "loss: 0.010274 [ 5120/17000] (23407.2 its/sec)\n",
      "loss: 0.015935 [ 5760/17000] (23592.7 its/sec)\n",
      "loss: 0.016290 [ 6400/17000] (22977.0 its/sec)\n",
      "loss: 0.023115 [ 7040/17000] (22853.1 its/sec)\n",
      "loss: 0.020935 [ 7680/17000] (22712.8 its/sec)\n",
      "loss: 0.015267 [ 8320/17000] (23039.0 its/sec)\n",
      "loss: 0.017236 [ 8960/17000] (23301.5 its/sec)\n",
      "loss: 0.021308 [ 9600/17000] (23562.3 its/sec)\n",
      "loss: 0.014358 [10240/17000] (23269.3 its/sec)\n",
      "loss: 0.032547 [10880/17000] (23262.6 its/sec)\n",
      "loss: 0.018343 [11520/17000] (22978.6 its/sec)\n",
      "loss: 0.021363 [12160/17000] (22642.0 its/sec)\n",
      "loss: 0.017616 [12800/17000] (23159.9 its/sec)\n",
      "loss: 0.021617 [13440/17000] (23379.0 its/sec)\n",
      "loss: 0.025334 [14080/17000] (23571.9 its/sec)\n",
      "loss: 0.016401 [14720/17000] (23701.9 its/sec)\n",
      "loss: 0.026372 [15360/17000] (23173.3 its/sec)\n",
      "loss: 0.027068 [16000/17000] (23540.7 its/sec)\n",
      "loss: 0.020432 [16640/17000] (22960.5 its/sec)\n",
      "Avg Loss: 0.020554\n",
      "\n",
      "Epoch 3\n",
      "------------------------------- \n",
      "\n",
      "loss: 0.012417 [    0/17000] (182752.7 its/sec)\n",
      "loss: 0.026547 [  640/17000] (23726.6 its/sec)\n",
      "loss: 0.035116 [ 1280/17000] (22701.5 its/sec)\n",
      "loss: 0.024067 [ 1920/17000] (22946.5 its/sec)\n",
      "loss: 0.016241 [ 2560/17000] (22997.6 its/sec)\n",
      "loss: 0.028013 [ 3200/17000] (23985.3 its/sec)\n",
      "loss: 0.017021 [ 3840/17000] (23653.8 its/sec)\n",
      "loss: 0.020377 [ 4480/17000] (23997.0 its/sec)\n",
      "loss: 0.018859 [ 5120/17000] (22855.5 its/sec)\n",
      "loss: 0.018269 [ 5760/17000] (22202.9 its/sec)\n",
      "loss: 0.026618 [ 6400/17000] (23169.1 its/sec)\n",
      "loss: 0.018487 [ 7040/17000] (23330.4 its/sec)\n",
      "loss: 0.021719 [ 7680/17000] (23309.2 its/sec)\n",
      "loss: 0.023346 [ 8320/17000] (23428.6 its/sec)\n",
      "loss: 0.018677 [ 8960/17000] (23734.5 its/sec)\n",
      "loss: 0.017393 [ 9600/17000] (23688.8 its/sec)\n",
      "loss: 0.026235 [10240/17000] (23253.3 its/sec)\n",
      "loss: 0.019417 [10880/17000] (21604.1 its/sec)\n",
      "loss: 0.013370 [11520/17000] (23123.9 its/sec)\n",
      "loss: 0.021097 [12160/17000] (21906.6 its/sec)\n",
      "loss: 0.027661 [12800/17000] (23319.4 its/sec)\n",
      "loss: 0.020976 [13440/17000] (23982.6 its/sec)\n",
      "loss: 0.018971 [14080/17000] (23523.4 its/sec)\n",
      "loss: 0.020373 [14720/17000] (23027.4 its/sec)\n",
      "loss: 0.022398 [15360/17000] (22814.0 its/sec)\n",
      "loss: 0.015522 [16000/17000] (22592.5 its/sec)\n",
      "loss: 0.015974 [16640/17000] (23420.9 its/sec)\n",
      "Avg Loss: 0.018971\n",
      "\n",
      "Epoch 4\n",
      "------------------------------- \n",
      "\n",
      "loss: 0.020226 [    0/17000] (175824.2 its/sec)\n",
      "loss: 0.026067 [  640/17000] (23373.0 its/sec)\n",
      "loss: 0.015918 [ 1280/17000] (22827.0 its/sec)\n",
      "loss: 0.016499 [ 1920/17000] (21996.9 its/sec)\n",
      "loss: 0.018027 [ 2560/17000] (23526.0 its/sec)\n",
      "loss: 0.028092 [ 3200/17000] (23722.2 its/sec)\n",
      "loss: 0.028551 [ 3840/17000] (23804.2 its/sec)\n",
      "loss: 0.013587 [ 4480/17000] (23837.9 its/sec)\n",
      "loss: 0.018601 [ 5120/17000] (22609.2 its/sec)\n",
      "loss: 0.013138 [ 5760/17000] (22197.6 its/sec)\n",
      "loss: 0.021666 [ 6400/17000] (22547.9 its/sec)\n",
      "loss: 0.014462 [ 7040/17000] (23602.3 its/sec)\n",
      "loss: 0.029505 [ 7680/17000] (24193.9 its/sec)\n",
      "loss: 0.017912 [ 8320/17000] (24229.6 its/sec)\n",
      "loss: 0.024524 [ 8960/17000] (23909.1 its/sec)\n",
      "loss: 0.018943 [ 9600/17000] (24373.5 its/sec)\n",
      "loss: 0.013366 [10240/17000] (22805.8 its/sec)\n",
      "loss: 0.013677 [10880/17000] (22505.9 its/sec)\n",
      "loss: 0.019262 [11520/17000] (21939.6 its/sec)\n",
      "loss: 0.016664 [12160/17000] (23020.8 its/sec)\n",
      "loss: 0.017060 [12800/17000] (23826.4 its/sec)\n",
      "loss: 0.015461 [13440/17000] (23861.0 its/sec)\n",
      "loss: 0.013597 [14080/17000] (23552.8 its/sec)\n",
      "loss: 0.029123 [14720/17000] (24131.8 its/sec)\n",
      "loss: 0.011863 [15360/17000] (23308.3 its/sec)\n",
      "loss: 0.018101 [16000/17000] (22056.8 its/sec)\n",
      "loss: 0.018091 [16640/17000] (22085.0 its/sec)\n",
      "Avg Loss: 0.018041\n",
      "\n",
      "Epoch 5\n",
      "------------------------------- \n",
      "\n",
      "loss: 0.014271 [    0/17000] (201638.3 its/sec)\n",
      "loss: 0.016544 [  640/17000] (23770.6 its/sec)\n",
      "loss: 0.014482 [ 1280/17000] (21833.3 its/sec)\n",
      "loss: 0.018082 [ 1920/17000] (22081.9 its/sec)\n",
      "loss: 0.021411 [ 2560/17000] (22377.6 its/sec)\n",
      "loss: 0.019368 [ 3200/17000] (23542.4 its/sec)\n",
      "loss: 0.017649 [ 3840/17000] (23722.2 its/sec)\n",
      "loss: 0.016343 [ 4480/17000] (23426.1 its/sec)\n",
      "loss: 0.014466 [ 5120/17000] (23685.3 its/sec)\n",
      "loss: 0.022153 [ 5760/17000] (23260.0 its/sec)\n",
      "loss: 0.015766 [ 6400/17000] (21903.6 its/sec)\n",
      "loss: 0.020812 [ 7040/17000] (21639.2 its/sec)\n",
      "loss: 0.010013 [ 7680/17000] (23157.4 its/sec)\n",
      "loss: 0.033938 [ 8320/17000] (23689.7 its/sec)\n",
      "loss: 0.014276 [ 8960/17000] (23662.5 its/sec)\n",
      "loss: 0.019329 [ 9600/17000] (23767.1 its/sec)\n",
      "loss: 0.010706 [10240/17000] (23549.3 its/sec)\n",
      "loss: 0.009996 [10880/17000] (22229.2 its/sec)\n",
      "loss: 0.016193 [11520/17000] (22698.3 its/sec)\n",
      "loss: 0.015691 [12160/17000] (22843.3 its/sec)\n",
      "loss: 0.016336 [12800/17000] (23076.4 its/sec)\n",
      "loss: 0.011682 [13440/17000] (23898.4 its/sec)\n",
      "loss: 0.020474 [14080/17000] (23802.4 its/sec)\n",
      "loss: 0.013692 [14720/17000] (24198.4 its/sec)\n",
      "loss: 0.014272 [15360/17000] (23795.4 its/sec)\n",
      "loss: 0.015825 [16000/17000] (23783.9 its/sec)\n",
      "loss: 0.011787 [16640/17000] (21831.1 its/sec)\n",
      "Avg Loss: 0.017490\n",
      "\n",
      "Epoch 6\n",
      "------------------------------- \n",
      "\n",
      "loss: 0.014485 [    0/17000] (164863.5 its/sec)\n",
      "loss: 0.018628 [  640/17000] (23566.7 its/sec)\n",
      "loss: 0.020046 [ 1280/17000] (23341.5 its/sec)\n",
      "loss: 0.021313 [ 1920/17000] (22841.6 its/sec)\n",
      "loss: 0.013208 [ 2560/17000] (23143.1 its/sec)\n",
      "loss: 0.017392 [ 3200/17000] (23775.9 its/sec)\n",
      "loss: 0.026501 [ 3840/17000] (23963.8 its/sec)\n",
      "loss: 0.024785 [ 4480/17000] (23643.3 its/sec)\n",
      "loss: 0.015984 [ 5120/17000] (23095.5 its/sec)\n",
      "loss: 0.010613 [ 5760/17000] (23495.7 its/sec)\n",
      "loss: 0.012657 [ 6400/17000] (23504.4 its/sec)\n",
      "loss: 0.013259 [ 7040/17000] (23015.0 its/sec)\n",
      "loss: 0.017341 [ 7680/17000] (23488.0 its/sec)\n",
      "loss: 0.013096 [ 8320/17000] (23584.0 its/sec)\n",
      "loss: 0.006580 [ 8960/17000] (24002.4 its/sec)\n",
      "loss: 0.023233 [ 9600/17000] (23809.5 its/sec)\n",
      "loss: 0.016831 [10240/17000] (23014.1 its/sec)\n",
      "loss: 0.013895 [10880/17000] (23099.7 its/sec)\n",
      "loss: 0.015591 [11520/17000] (23369.6 its/sec)\n",
      "loss: 0.015624 [12160/17000] (23093.9 its/sec)\n",
      "loss: 0.018254 [12800/17000] (22377.6 its/sec)\n",
      "loss: 0.017803 [13440/17000] (23273.6 its/sec)\n",
      "loss: 0.015167 [14080/17000] (23577.1 its/sec)\n",
      "loss: 0.010345 [14720/17000] (23905.6 its/sec)\n",
      "loss: 0.014138 [15360/17000] (21854.9 its/sec)\n",
      "loss: 0.019173 [16000/17000] (23115.5 its/sec)\n",
      "loss: 0.015095 [16640/17000] (22966.2 its/sec)\n",
      "Avg Loss: 0.017598\n",
      "\n",
      "Epoch 7\n",
      "------------------------------- \n",
      "\n",
      "loss: 0.034479 [    0/17000] (161534.6 its/sec)\n",
      "loss: 0.026021 [  640/17000] (22954.7 its/sec)\n",
      "loss: 0.009509 [ 1280/17000] (23266.8 its/sec)\n",
      "loss: 0.014301 [ 1920/17000] (23065.6 its/sec)\n",
      "loss: 0.013048 [ 2560/17000] (22646.0 its/sec)\n",
      "loss: 0.011955 [ 3200/17000] (23452.7 its/sec)\n",
      "loss: 0.021229 [ 3840/17000] (23600.6 its/sec)\n",
      "loss: 0.012185 [ 4480/17000] (23603.2 its/sec)\n"
     ]
    },
    {
     "name": "stdout",
     "output_type": "stream",
     "text": [
      "loss: 0.015286 [ 5120/17000] (22960.5 its/sec)\n",
      "loss: 0.014441 [ 5760/17000] (22654.1 its/sec)\n",
      "loss: 0.018269 [ 6400/17000] (23653.8 its/sec)\n",
      "loss: 0.013232 [ 7040/17000] (23736.2 its/sec)\n",
      "loss: 0.016519 [ 7680/17000] (23778.6 its/sec)\n",
      "loss: 0.010749 [ 8320/17000] (23745.9 its/sec)\n",
      "loss: 0.015115 [ 8960/17000] (23641.5 its/sec)\n",
      "loss: 0.014283 [ 9600/17000] (23841.5 its/sec)\n",
      "loss: 0.018841 [10240/17000] (23923.4 its/sec)\n",
      "loss: 0.021614 [10880/17000] (22995.1 its/sec)\n",
      "loss: 0.025181 [11520/17000] (23615.4 its/sec)\n",
      "loss: 0.015313 [12160/17000] (23472.5 its/sec)\n",
      "loss: 0.022699 [12800/17000] (23824.6 its/sec)\n",
      "loss: 0.013034 [13440/17000] (24518.3 its/sec)\n",
      "loss: 0.018272 [14080/17000] (23946.7 its/sec)\n",
      "loss: 0.014453 [14720/17000] (24471.4 its/sec)\n",
      "loss: 0.014497 [15360/17000] (23310.0 its/sec)\n",
      "loss: 0.014960 [16000/17000] (23980.8 its/sec)\n",
      "loss: 0.016524 [16640/17000] (23663.4 its/sec)\n",
      "Avg Loss: 0.016725\n",
      "\n",
      "Epoch 8\n",
      "------------------------------- \n",
      "\n",
      "loss: 0.011068 [    0/17000] (204669.0 its/sec)\n",
      "loss: 0.018309 [  640/17000] (23207.7 its/sec)\n",
      "loss: 0.014367 [ 1280/17000] (22972.8 its/sec)\n",
      "loss: 0.014894 [ 1920/17000] (23687.0 its/sec)\n",
      "loss: 0.015914 [ 2560/17000] (24062.0 its/sec)\n",
      "loss: 0.026317 [ 3200/17000] (23706.3 its/sec)\n",
      "loss: 0.027101 [ 3840/17000] (23795.4 its/sec)\n",
      "loss: 0.026962 [ 4480/17000] (23918.1 its/sec)\n",
      "loss: 0.017375 [ 5120/17000] (23321.1 its/sec)\n",
      "loss: 0.024294 [ 5760/17000] (22679.0 its/sec)\n",
      "loss: 0.017766 [ 6400/17000] (22622.8 its/sec)\n",
      "loss: 0.021127 [ 7040/17000] (23427.8 its/sec)\n",
      "loss: 0.011544 [ 7680/17000] (23529.4 its/sec)\n",
      "loss: 0.012918 [ 8320/17000] (23927.0 its/sec)\n",
      "loss: 0.012818 [ 8960/17000] (24404.2 its/sec)\n",
      "loss: 0.012166 [ 9600/17000] (23876.1 its/sec)\n",
      "loss: 0.018477 [10240/17000] (23294.8 its/sec)\n",
      "loss: 0.016999 [10880/17000] (23576.2 its/sec)\n",
      "loss: 0.018958 [11520/17000] (23234.7 its/sec)\n",
      "loss: 0.005845 [12160/17000] (23670.4 its/sec)\n",
      "loss: 0.012383 [12800/17000] (24018.6 its/sec)\n",
      "loss: 0.008492 [13440/17000] (23946.7 its/sec)\n",
      "loss: 0.009370 [14080/17000] (23973.6 its/sec)\n",
      "loss: 0.016593 [14720/17000] (24355.9 its/sec)\n",
      "loss: 0.022466 [15360/17000] (23270.2 its/sec)\n",
      "loss: 0.016802 [16000/17000] (23216.2 its/sec)\n",
      "loss: 0.014618 [16640/17000] (23140.6 its/sec)\n",
      "Avg Loss: 0.016484\n",
      "\n",
      "Epoch 9\n",
      "------------------------------- \n",
      "\n",
      "loss: 0.016371 [    0/17000] (223463.7 its/sec)\n",
      "loss: 0.016762 [  640/17000] (21285.8 its/sec)\n",
      "loss: 0.014765 [ 1280/17000] (21164.7 its/sec)\n",
      "loss: 0.016040 [ 1920/17000] (21938.1 its/sec)\n",
      "loss: 0.027953 [ 2560/17000] (22721.6 its/sec)\n",
      "loss: 0.030831 [ 3200/17000] (23693.2 its/sec)\n",
      "loss: 0.014113 [ 3840/17000] (23558.9 its/sec)\n",
      "loss: 0.023912 [ 4480/17000] (24219.5 its/sec)\n",
      "loss: 0.023227 [ 5120/17000] (23745.9 its/sec)\n",
      "loss: 0.011031 [ 5760/17000] (23533.7 its/sec)\n",
      "loss: 0.018132 [ 6400/17000] (22841.6 its/sec)\n",
      "loss: 0.014413 [ 7040/17000] (23128.1 its/sec)\n",
      "loss: 0.012652 [ 7680/17000] (23175.8 its/sec)\n",
      "loss: 0.011172 [ 8320/17000] (22564.6 its/sec)\n",
      "loss: 0.023135 [ 8960/17000] (22932.5 its/sec)\n",
      "loss: 0.009509 [ 9600/17000] (22933.3 its/sec)\n",
      "loss: 0.019169 [10240/17000] (23384.1 its/sec)\n",
      "loss: 0.013173 [10880/17000] (18759.5 its/sec)\n",
      "loss: 0.019035 [11520/17000] (22651.7 its/sec)\n",
      "loss: 0.014362 [12160/17000] (23128.1 its/sec)\n",
      "loss: 0.011952 [12800/17000] (23865.5 its/sec)\n",
      "loss: 0.012859 [13440/17000] (23539.8 its/sec)\n",
      "loss: 0.021977 [14080/17000] (23687.9 its/sec)\n",
      "loss: 0.014592 [14720/17000] (23852.1 its/sec)\n",
      "loss: 0.019660 [15360/17000] (23774.1 its/sec)\n",
      "loss: 0.016087 [16000/17000] (23845.9 its/sec)\n",
      "loss: 0.026236 [16640/17000] (23386.7 its/sec)\n",
      "Avg Loss: 0.017294\n",
      "\n",
      "Epoch 10\n",
      "------------------------------- \n",
      "\n",
      "loss: 0.014952 [    0/17000] (169806.3 its/sec)\n",
      "loss: 0.017181 [  640/17000] (22129.2 its/sec)\n",
      "loss: 0.008785 [ 1280/17000] (22713.6 its/sec)\n",
      "loss: 0.012843 [ 1920/17000] (22744.2 its/sec)\n",
      "loss: 0.015728 [ 2560/17000] (23452.7 its/sec)\n",
      "loss: 0.012704 [ 3200/17000] (23811.3 its/sec)\n",
      "loss: 0.016025 [ 3840/17000] (24253.4 its/sec)\n",
      "loss: 0.014401 [ 4480/17000] (23758.3 its/sec)\n",
      "loss: 0.033247 [ 5120/17000] (23777.7 its/sec)\n",
      "loss: 0.014405 [ 5760/17000] (23859.2 its/sec)\n",
      "loss: 0.013355 [ 6400/17000] (23177.5 its/sec)\n",
      "loss: 0.015890 [ 7040/17000] (23291.4 its/sec)\n",
      "loss: 0.008858 [ 7680/17000] (23672.1 its/sec)\n",
      "loss: 0.015142 [ 8320/17000] (23939.6 its/sec)\n",
      "loss: 0.015608 [ 8960/17000] (23964.7 its/sec)\n",
      "loss: 0.021069 [ 9600/17000] (24005.1 its/sec)\n",
      "loss: 0.022132 [10240/17000] (24509.8 its/sec)\n",
      "loss: 0.015316 [10880/17000] (23975.4 its/sec)\n",
      "loss: 0.010263 [11520/17000] (23216.2 its/sec)\n",
      "loss: 0.015734 [12160/17000] (23278.7 its/sec)\n",
      "loss: 0.015391 [12800/17000] (23561.5 its/sec)\n",
      "loss: 0.014262 [13440/17000] (23941.3 its/sec)\n",
      "loss: 0.012279 [14080/17000] (23806.9 its/sec)\n",
      "loss: 0.021410 [14720/17000] (22999.2 its/sec)\n",
      "loss: 0.016944 [15360/17000] (22916.9 its/sec)\n",
      "loss: 0.017056 [16000/17000] (23623.2 its/sec)\n",
      "loss: 0.008965 [16640/17000] (23617.1 its/sec)\n",
      "Avg Loss: 0.016874\n",
      "\n",
      "Done!\n"
     ]
    }
   ],
   "source": [
    "ff = FeedForward().to(device)\n",
    "loss_func = nn.MSELoss()\n",
    "optimizer = torch.optim.Adam(ff.parameters(), lr=1e-3)\n",
    "epochs = 10\n",
    "train_loss = []\n",
    "test_loss = []\n",
    "for t in range(epochs):\n",
    "    print(f\"Epoch {t+1}\\n------------------------------- \\n\")\n",
    "    losses = train(train_loader, ff, loss_func, optimizer)\n",
    "    train_loss.append(losses)\n",
    "    test_loss.append(test(test_loader, ff, loss_func))\n",
    "\n",
    "# Could add a condition that interrupts training when the loss doesn't change much\n",
    "print(\"Done!\")"
   ]
  },
  {
   "cell_type": "code",
   "execution_count": 36,
   "metadata": {
    "colab": {
     "base_uri": "https://localhost:8080/",
     "height": 447
    },
    "id": "xh24R8-VdIN8",
    "outputId": "fa138b15-3f6c-4fbc-cfcf-ed1d5b83ea26"
   },
   "outputs": [
    {
     "data": {
      "text/plain": [
       "[<matplotlib.lines.Line2D at 0x17f48dd60>]"
      ]
     },
     "execution_count": 36,
     "metadata": {},
     "output_type": "execute_result"
    },
    {
     "data": {
      "image/png": "[encoded data removed]",
      "text/plain": [
       "<Figure size 432x288 with 1 Axes>"
      ]
     },
     "metadata": {
      "needs_background": "light"
     },
     "output_type": "display_data"
    }
   ],
   "source": [
    "plt.plot([i for i in range(len(train_loss))], torch.tensor(train_loss).mean(axis=1))"
   ]
  },
  {
   "cell_type": "code",
   "execution_count": 37,
   "metadata": {
    "colab": {
     "base_uri": "https://localhost:8080/",
     "height": 447
    },
    "id": "lbFlT5DCtWp9",
    "outputId": "76d38de6-253f-48d4-8c65-6557aa6d050d"
   },
   "outputs": [
    {
     "data": {
      "text/plain": [
       "[<matplotlib.lines.Line2D at 0x17fc7d940>]"
      ]
     },
     "execution_count": 37,
     "metadata": {},
     "output_type": "execute_result"
    },
    {
     "data": {
      "image/png": "[encoded data removed]",
      "text/plain": [
       "<Figure size 432x288 with 1 Axes>"
      ]
     },
     "metadata": {
      "needs_background": "light"
     },
     "output_type": "display_data"
    }
   ],
   "source": [
    "plt.plot([i for i in range(len(test_loss))], test_loss)"
   ]
  },
  {
   "cell_type": "code",
   "execution_count": 38,
   "metadata": {
    "colab": {
     "base_uri": "https://localhost:8080/"
    },
    "id": "Tck5Qq4dIUTB",
    "outputId": "da5be816-2f8c-41ba-ba0b-3980b3cfb599"
   },
   "outputs": [
    {
     "name": "stdout",
     "output_type": "stream",
     "text": [
      "tensor([[0.0194]])\n",
      "tensor([0.1041])\n",
      "0.007171951234340668\n"
     ]
    }
   ],
   "source": [
    "ff.eval()\n",
    "with torch.no_grad():\n",
    "    x, y = train_data[4]\n",
    "    x = x.to(device)\n",
    "    y = y.to(device)\n",
    "\n",
    "    pred = ff(x)\n",
    "    print(pred)\n",
    "    print(y)\n",
    "print(loss_func(pred, y.unsqueeze(1)).item())"
   ]
  },
  {
   "cell_type": "code",
   "execution_count": null,
   "metadata": {
    "id": "I9Uj_4mudDFY"
   },
   "outputs": [],
   "source": []
  }
 ],
 "metadata": {
  "accelerator": "GPU",
  "colab": {
   "provenance": []
  },
  "kernelspec": {
   "display_name": "Python 3 (ipykernel)",
   "language": "python",
   "name": "python3"
  },
  "language_info": {
   "codemirror_mode": {
    "name": "ipython",
    "version": 3
   },
   "file_extension": ".py",
   "mimetype": "text/x-python",
   "name": "python",
   "nbconvert_exporter": "python",
   "pygments_lexer": "ipython3",
   "version": "3.9.12"
  }
 },
 "nbformat": 4,
 "nbformat_minor": 1
}
